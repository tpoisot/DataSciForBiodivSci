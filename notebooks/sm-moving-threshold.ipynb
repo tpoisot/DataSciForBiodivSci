{
  "cells": [
    {
      "cell_type": "markdown",
      "metadata": {},
      "source": [
        "# Supp. Mat. - moving threshold\n",
        "\n",
        "This follows the Naive Bayes module, and expands it to have a little more depth to it with priors and a probabilistic output; most of the setup code is shared with the NBC notebook, but duplication is fine as it makes the two notebooks independent.\n"
      ],
      "id": "2bfc3b39"
    },
    {
      "cell_type": "code",
      "metadata": {},
      "source": [
        "_code_path = joinpath(@__DIR__, \"..\", \"lib\")\n",
        "include(joinpath(_code_path, \"pkg.jl\"))\n",
        "include(joinpath(_code_path, \"confusiontable.jl\"))\n",
        "include(joinpath(_code_path, \"nbc.jl\"))\n",
        "include(joinpath(_code_path, \"splitters.jl\"))"
      ],
      "id": "f9e5e3e9",
      "execution_count": null,
      "outputs": []
    },
    {
      "cell_type": "markdown",
      "metadata": {},
      "source": [
        "We load the data\n"
      ],
      "id": "1eaf22bf"
    },
    {
      "cell_type": "code",
      "metadata": {},
      "source": [
        "_ptm_path = joinpath(@__DIR__, \"..\", \"ptm\")\n",
        "modelpath = joinpath(_ptm_path, \"reindeer-varselected.jld\")\n",
        "ptm = JLD.load(modelpath)\n",
        "trainlabels, trainfeatures = ptm[\"training\"]\n",
        "testlabels, testfeatures = ptm[\"testing\"]"
      ],
      "id": "757012ba",
      "execution_count": null,
      "outputs": []
    },
    {
      "cell_type": "markdown",
      "metadata": {},
      "source": [
        "MC CV\n"
      ],
      "id": "507c2f72"
    },
    {
      "cell_type": "code",
      "metadata": {},
      "source": [
        "thresholds = collect(LinRange(0.0, 1.0, 300))\n",
        "k = 10\n",
        "conftrain = zeros(ConfusionMatrix, (k, length(thresholds)))\n",
        "confvalid = zeros(ConfusionMatrix, (k, length(thresholds)))\n",
        "\n",
        "folds = kfold(trainlabels, trainfeatures; k=k, permute=true)\n",
        "\n",
        "for f in axes(folds, 1)\n",
        "    t_idx, v_idx = folds[f]\n",
        "    predictor = naivebayes(trainlabels[t_idx], trainfeatures[t_idx,:])\n",
        "    # Probability predictions\n",
        "    prediction = vec(mapslices(predictor, trainfeatures[t_idx,:], dims=2))\n",
        "    validation = vec(mapslices(predictor, trainfeatures[v_idx,:], dims=2))\n",
        "    # Thresholds\n",
        "    for (i,t) in enumerate(thresholds)\n",
        "        conftrain[f,i] = ConfusionMatrix(prediction, trainlabels[t_idx], t)\n",
        "        confvalid[f,i] = ConfusionMatrix(validation, trainlabels[v_idx], t)\n",
        "    end\n",
        "end"
      ],
      "id": "a69d70bc",
      "execution_count": null,
      "outputs": []
    },
    {
      "cell_type": "markdown",
      "metadata": {},
      "source": [
        "how good are our folds\n"
      ],
      "id": "3aedfb0b"
    },
    {
      "cell_type": "code",
      "metadata": {},
      "source": [
        "#| label: fig-moving-roc-pr\n",
        "#| fig-cap: roc and pr curves\n",
        "raw_tpr = tpr.(confvalid)\n",
        "raw_fpr = fpr.(confvalid)\n",
        "raw_ppv = ppv.(confvalid)\n",
        "f = Figure(; resolution=(500, 300))\n",
        "roc = Axis(f[1,1]; xlabel=\"False Positive Rate\", ylabel=\"True Positive Rate\")\n",
        "pr = Axis(f[1,2]; xlabel=\"True Positive Rate\", ylabel=\"Positive Predictive Value\")\n",
        "scatter!(roc, [0.0], [1.0], color=:lightgrey, markersize=80)\n",
        "scatter!(pr, [1.0], [1.0], color=:lightgrey, markersize=80)\n",
        "for i in axes(confvalid, 1)\n",
        "    lines!(roc, raw_fpr[i,:], raw_tpr[i,:], color=(:black, 0.2))\n",
        "    lines!(pr, raw_tpr[i,:], raw_ppv[i,:], color=(:black, 0.2))\n",
        "end\n",
        "for ax in [roc, pr]\n",
        "    xlims!(ax, (0., 1.0))\n",
        "    ylims!(ax, (0., 1.0))\n",
        "    tightlimits!(ax)\n",
        "end\n",
        "hlines!(pr, [0.5], color=:black, linestyle=:dash)\n",
        "ablines!(roc, [0.0], [1.0], color=:black, linestyle=:dash)\n",
        "current_figure()"
      ],
      "id": "fig-moving-roc-pr",
      "execution_count": null,
      "outputs": []
    },
    {
      "cell_type": "markdown",
      "metadata": {},
      "source": [
        "pretty good -- now we need to pick an optimal value for the threshold\n"
      ],
      "id": "18bcb033"
    },
    {
      "cell_type": "code",
      "metadata": {},
      "source": [
        "#| label: fig-moving-thresholding\n",
        "#| fig-cap: performance tuning curve\n",
        "raw_mcc = mcc.(confvalid)\n",
        "raw_mcc[findall(isnan, raw_mcc)] .= 0.0\n",
        "raw_tss = trueskill.(confvalid)\n",
        "raw_tss[findall(isnan, raw_tss)] .= 0.0\n",
        "\n",
        "f = Figure(; resolution=(500, 300))\n",
        "axmcc = Axis(f[1,1]; xlabel=\"Threshold\", ylabel=\"MCC\")\n",
        "axtss = Axis(f[1,2]; xlabel=\"Threshold\", ylabel=\"True Skill Statistic\")\n",
        "ylims!(axmcc, low=0.0, high=1.0)\n",
        "xlims!(axmcc, low=0.0, high=1.0)\n",
        "xlims!(axtss, low=0.0, high=1.0)\n",
        "ylims!(axtss, low=0.0, high=1.0)\n",
        "for i in axes(confvalid, 1)\n",
        "    lines!(axmcc, thresholds, raw_mcc[i,:], color=(:black, 0.2))\n",
        "    lines!(axtss, thresholds, raw_tss[i,:], color=(:black, 0.2))\n",
        "end\n",
        "\n",
        "lines!(axmcc, thresholds, vec(mean(raw_mcc; dims=1)), color=:black, linewidth=3, linestyle=:dash)\n",
        "lines!(axtss, thresholds, vec(mean(raw_tss; dims=1)), color=:black, linewidth=3, linestyle=:dash)\n",
        "\n",
        "current_figure()"
      ],
      "id": "fig-moving-thresholding",
      "execution_count": null,
      "outputs": []
    },
    {
      "cell_type": "markdown",
      "metadata": {},
      "source": [
        "pick the threshold\n"
      ],
      "id": "cda106e2"
    },
    {
      "cell_type": "code",
      "metadata": {},
      "source": [
        "mcc_perf = vec(mean(raw_mcc; dims=1))\n",
        "τ = thresholds[last(findmax(mcc_perf))]\n",
        "@info τ"
      ],
      "id": "04b1a7da",
      "execution_count": null,
      "outputs": []
    },
    {
      "cell_type": "markdown",
      "metadata": {},
      "source": [
        "train the final model\n"
      ],
      "id": "25e7c664"
    },
    {
      "cell_type": "code",
      "metadata": {},
      "source": [
        "predictor = naivebayes(trainlabels, trainfeatures)"
      ],
      "id": "01a6d213",
      "execution_count": null,
      "outputs": []
    },
    {
      "cell_type": "markdown",
      "metadata": {},
      "source": [
        "and test on the testing data\n"
      ],
      "id": "88510987"
    },
    {
      "cell_type": "code",
      "metadata": {},
      "source": [
        "#| label: tbl-moving-confusion\n",
        "#| tbl-cap: confusion table after tuning the value of $\\tau$ etc etc\n",
        "prediction = vec(mapslices(predictor, testfeatures, dims=2))\n",
        "conf = ConfusionMatrix(prediction, testlabels, τ)\n",
        "out = pretty_table(String, Matrix(conf), tf = tf_html_simple, formatters = ft_nomissing, show_subheader = false, show_header = false)\n",
        "display(\"text/html\", out)"
      ],
      "id": "tbl-moving-confusion",
      "execution_count": null,
      "outputs": []
    },
    {
      "cell_type": "markdown",
      "metadata": {},
      "source": [
        "but we can add an extra step! optimize the prior and the threshold at the same time using grid search using two loops, first the prior and then the thresholding  -- this is rather long to run, so we actually do the search only for a relevant range of parameters\n"
      ],
      "id": "bde76f0d"
    },
    {
      "cell_type": "code",
      "metadata": {},
      "source": [
        "thresholds = collect(LinRange(0.0, 1.0, 100))\n",
        "priors = collect(LinRange(0.5, 0.65, 50))\n",
        "scores = zeros(Float64, (length(priors), length(thresholds)))\n",
        "\n",
        "k = 10\n",
        "folds = kfold(trainlabels, trainfeatures; k=k, permute=true)\n",
        "conftrain = zeros(ConfusionMatrix, (k, length(thresholds)))\n",
        "confvalid = zeros(ConfusionMatrix, (k, length(thresholds)))\n",
        "\n",
        "Threads.@threads for i in axes(priors, 1)\n",
        "    @info priors[i]\n",
        "    for f in axes(folds, 1)\n",
        "        t_idx, v_idx = folds[f]\n",
        "        predictor = naivebayes(trainlabels[t_idx], trainfeatures[t_idx,:]; presence=priors[i])\n",
        "        # Probability predictions\n",
        "        prediction = vec(mapslices(predictor, trainfeatures[t_idx,:], dims=2))\n",
        "        validation = vec(mapslices(predictor, trainfeatures[v_idx,:], dims=2))\n",
        "        # Thresholds\n",
        "        for (ti,t) in enumerate(thresholds)\n",
        "            conftrain[f,ti] = ConfusionMatrix(prediction, trainlabels[t_idx], t)\n",
        "            confvalid[f,ti] = ConfusionMatrix(validation, trainlabels[v_idx], t)\n",
        "        end\n",
        "    end\n",
        "    scores[i,:] .= vec(mean(mcc.(confvalid), dims=1))\n",
        "    @info findmax(scores)\n",
        "end"
      ],
      "id": "4f92843a",
      "execution_count": null,
      "outputs": []
    },
    {
      "cell_type": "markdown",
      "metadata": {},
      "source": [
        "look at the grid at the end of the tuning process\n"
      ],
      "id": "c42135dd"
    },
    {
      "cell_type": "code",
      "metadata": {},
      "source": [
        "heatmap(scores)"
      ],
      "id": "48640523",
      "execution_count": null,
      "outputs": []
    },
    {
      "cell_type": "markdown",
      "metadata": {},
      "source": [
        "we get the best parameters\n"
      ],
      "id": "e3aa2c56"
    },
    {
      "cell_type": "code",
      "metadata": {},
      "source": [
        "best_pos = last(findmax(scores))\n",
        "prior = priors[best_pos[1]]\n",
        "τ = thresholds[best_pos[2]]\n",
        "@info prior, τ"
      ],
      "id": "96715acf",
      "execution_count": null,
      "outputs": []
    },
    {
      "cell_type": "markdown",
      "metadata": {},
      "source": [
        "now we run the prediction on the model with both parameters tuned\n"
      ],
      "id": "9ff55ce4"
    },
    {
      "cell_type": "code",
      "metadata": {},
      "source": [
        "predictor = naivebayes(trainlabels, trainfeatures; presence=prior)"
      ],
      "id": "b6711657",
      "execution_count": null,
      "outputs": []
    },
    {
      "cell_type": "markdown",
      "metadata": {},
      "source": [
        "output the table\n"
      ],
      "id": "7f4d41b1"
    },
    {
      "cell_type": "code",
      "metadata": {},
      "source": [
        "#| label: tbl-moving-confusion-grid\n",
        "#| tbl-cap: confusion table after tuning the value of $\\tau$ and the prior etc etc\n",
        "prediction = vec(mapslices(predictor, testfeatures, dims=2))\n",
        "conf = ConfusionMatrix(prediction, testlabels, τ)\n",
        "out = pretty_table(String, Matrix(conf), tf = tf_html_simple, formatters = ft_nomissing, show_subheader = false, show_header = false)\n",
        "display(\"text/html\", out)"
      ],
      "id": "tbl-moving-confusion-grid",
      "execution_count": null,
      "outputs": []
    },
    {
      "cell_type": "markdown",
      "metadata": {},
      "source": [
        "look at probas - this explains why the thresholding curve was essentially flat, the model is *really* good at picking 0/1 probabilities\n"
      ],
      "id": "b9429f1b"
    },
    {
      "cell_type": "code",
      "metadata": {},
      "source": [
        "#| label: fig-moving-explanation\n",
        "#| fig-cap: probas etc etc\n",
        "f = Figure()\n",
        "gl = f[1,1] = GridLayout()\n",
        "\n",
        "axp = Axis(gl[1,1])\n",
        "hist!(axp, prediction, normalization=:probability, bins=10, color=:lightgrey)\n",
        "xlims!(axp, low=0.0, high=1.0)\n",
        "ylims!(axp, low=0.0)\n",
        "hidespines!(axp)\n",
        "hidedecorations!(axp)\n",
        "\n",
        "axr = Axis(gl[2,1]; xlabel=\"Predicted probability for the presence class\")\n",
        "colpos = Makie.wong_colors()[6]\n",
        "cl = [(p ? colpos : :grey) for p in ((prediction .>= τ).==testlabels)]\n",
        "rainclouds!(axr, testlabels, prediction, plot_boxplots=false, clouds=nothing, side_nudge=0.0, orientation=:horizontal, jitter_width=0.5, markersize=8, color=cl)\n",
        "xlims!(axr, low=0.0, high=1.0)\n",
        "ylims!(axr, low=-0.5, high=1.5)\n",
        "\n",
        "vlines!(axr, τ, color=:black, linestyle=:dash)\n",
        "\n",
        "rowgap!(gl, 0)\n",
        "rowsize!(gl, 1, Relative(1/7))\n",
        "\n",
        "current_figure()"
      ],
      "id": "fig-moving-explanation",
      "execution_count": null,
      "outputs": []
    },
    {
      "cell_type": "code",
      "metadata": {},
      "source": [
        "@info tpr(conf)\n",
        "@info tnr(conf)\n",
        "@info fpr(conf)\n",
        "@info fnr(conf)\n",
        "@info trueskill(conf)\n",
        "@info mcc(conf)"
      ],
      "id": "30f93efe",
      "execution_count": null,
      "outputs": []
    },
    {
      "cell_type": "markdown",
      "metadata": {},
      "source": [
        "get the data\n"
      ],
      "id": "8efe9ece"
    },
    {
      "cell_type": "code",
      "metadata": {},
      "source": [
        "using SpeciesDistributionToolkit\n",
        "_layer_path = joinpath(@__DIR__, \"..\", \"data\", \"general\", \"rangifer-layers.tiff\")\n",
        "bio = [SpeciesDistributionToolkit._read_geotiff(_layer_path, SimpleSDMResponse; bandnumber=i) for i in ptm[\"varidx\"]]"
      ],
      "id": "965bfabf",
      "execution_count": null,
      "outputs": []
    },
    {
      "cell_type": "markdown",
      "metadata": {},
      "source": [
        "make the predictions for every pixel and get the entropy\n"
      ],
      "id": "e8f9521a"
    },
    {
      "cell_type": "code",
      "metadata": {},
      "source": [
        "pr = convert(Float64, similar(first(bio)))\n",
        "entropy = similar(pr)\n",
        "Threads.@threads for k in keys(pr)\n",
        "    x = [b[k] for b in bio]\n",
        "    pr[k] = predictor(x)\n",
        "    p = [pr[k], 1.0 - pr[k]]\n",
        "    entropy[k] = -sum(p .* log2.(p))\n",
        "end"
      ],
      "id": "5eb8bb09",
      "execution_count": null,
      "outputs": []
    },
    {
      "cell_type": "markdown",
      "metadata": {},
      "source": [
        "show the results on a map\n"
      ],
      "id": "6afc5932"
    },
    {
      "cell_type": "code",
      "metadata": {},
      "source": [
        "#| label: fig-moving-rangemap\n",
        "#| fig-cap: Range map of *Rangifer tarandus tarandus* as ...\n",
        "f = Figure(; resolution=(500, 300))\n",
        "\n",
        "gl = f[1,1] = GridLayout()\n",
        "\n",
        "\n",
        "axpt = Axis(gl[1,1]; ylabel=\"Latitude\", xgridvisible=false, ygridvisible=false)\n",
        "heatmap!(axpt, pr .> τ, colormap=[:lightgrey, :grey])\n",
        "#scatter!(axpt, presences.longitude, presences.latitude, color=presences.presence, markersize=1, colormap=[:grey, :black])\n",
        "\n",
        "axpr = Axis(gl[1,2]; xlabel=\"Longitude\", ylabel=\"\", xgridvisible=false, ygridvisible=false)\n",
        "heatmap!(axpr, pr, colormap=[:lightgrey, :darkgreen])\n",
        "\n",
        "axen = Axis(gl[2,1]; xlabel=\"Longitude\", ylabel=\"Latitude\", xgridvisible=false, ygridvisible=false)\n",
        "heatmap!(axen, entropy, colormap=[:lightgrey, :darkred])\n",
        "\n",
        "hidexdecorations!(axpt)\n",
        "hideydecorations!(axpr)\n",
        "hidexdecorations!(axpr)\n",
        "hideydecorations!(axen)\n",
        "\n",
        "rowgap!(gl, 0)\n",
        "colgap!(gl, 0)\n",
        "\n",
        "current_figure()"
      ],
      "id": "fig-moving-rangemap",
      "execution_count": null,
      "outputs": []
    },
    {
      "cell_type": "markdown",
      "metadata": {},
      "source": [
        "Finally we _save_ the model to use it in the next modules\n"
      ],
      "id": "b2131791"
    },
    {
      "cell_type": "code",
      "metadata": {},
      "source": [
        "_ptm_path = joinpath(@__DIR__, \"..\", \"ptm\")\n",
        "modelpath = joinpath(_ptm_path, \"reindeer-tuned.jld\")\n",
        "JLD.save(\n",
        "    modelpath,\n",
        "    \"threshold\", τ,\n",
        "    \"prior\", prior,\n",
        "    \"testing\", (testlabels, testfeatures),\n",
        "    \"varidx\", ptm[\"varidx\"],\n",
        "    \"C\", conf,\n",
        "    \"training\", (trainlabels, trainfeatures)\n",
        ")"
      ],
      "id": "c56ed382",
      "execution_count": null,
      "outputs": []
    }
  ],
  "metadata": {
    "kernelspec": {
      "name": "julia-1.9",
      "language": "julia",
      "display_name": "Julia 1.9.3"
    }
  },
  "nbformat": 4,
  "nbformat_minor": 5
}