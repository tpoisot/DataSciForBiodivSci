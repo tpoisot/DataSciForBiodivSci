{
  "cells": [
    {
      "cell_type": "raw",
      "metadata": {},
      "source": [
        "---\n",
        "title: An analysis of the sakura phenology dataset\n",
        "---"
      ],
      "id": "ac2ebc6e"
    },
    {
      "cell_type": "markdown",
      "metadata": {},
      "source": [
        "This notebook is used to support the chapter on data splitting.\n"
      ],
      "id": "1fd7f6be"
    },
    {
      "cell_type": "code",
      "metadata": {},
      "source": [
        "using DataFrames\n",
        "import CSV\n",
        "using Statistics\n",
        "using GLM\n",
        "using CairoMakie\n",
        "using Markdown\n",
        "CairoMakie.activate!(; px_per_unit = 2)"
      ],
      "id": "8ab67c48",
      "execution_count": null,
      "outputs": []
    },
    {
      "cell_type": "markdown",
      "metadata": {},
      "source": [
        "We first load the data. The data as presented here have a column for the temperature in March, which has been smoothed, and for the day of bloom, which is expressed as day of year:\n"
      ],
      "id": "1756447b"
    },
    {
      "cell_type": "code",
      "metadata": {},
      "source": [
        "sakura = DataFrame(CSV.File(joinpath(@__DIR__, \"..\", \"data\", \"general\", \"sakura.csv\")))\n",
        "allowmissing!(sakura, :temperature)\n",
        "replace!(sakura.temperature, -50.0 => missing)\n",
        "sort!(sakura, :year)\n",
        "describe(sakura)"
      ],
      "id": "af16a299",
      "execution_count": null,
      "outputs": []
    },
    {
      "cell_type": "markdown",
      "metadata": {},
      "source": [
        "We will use a 14 years running average for the date of bloom; this is a little artificial, but it \n"
      ],
      "id": "301217c6"
    },
    {
      "cell_type": "code",
      "metadata": {},
      "source": [
        "average = zeros(Float64, size(sakura, 1))\n",
        "for (i, row) in enumerate(eachrow(sakura))\n",
        "    year_span = row.year .+ (-8, 0)\n",
        "    @info year_span\n",
        "    valid_records = year_span[1] .< sakura.year .< year_span[2]\n",
        "    subset = sakura[findall(valid_records), :]\n",
        "    dropmissing!(subset)\n",
        "    if size(subset, 1) >= 3\n",
        "        average[i] = mean(subset.flowering)\n",
        "    end\n",
        "end\n",
        "sakura.flowavg = average\n",
        "\n",
        "allowmissing!(sakura, :flowavg)\n",
        "replace!(sakura.flowavg, 0.0 => missing)\n",
        "\n",
        "dropmissing!(sakura)"
      ],
      "id": "e72d7c93",
      "execution_count": null,
      "outputs": []
    },
    {
      "cell_type": "markdown",
      "metadata": {},
      "source": [
        "We can inspect the data to look for a linear relationship between temperature and flowering time:\n"
      ],
      "id": "88a37dd2"
    },
    {
      "cell_type": "code",
      "metadata": {},
      "source": [
        "#| label: fig-splits-rawdata\n",
        "#| fig-cap: 'The raw data show a negative relationship between the temperature in March, and the bloom time. This suggests that when the trees have accumulated enough temperature, they can bloom early. In a context of warming, we should therefore see earlier blooms with rising temperatures.'\n",
        "f = Figure(; resolution=(500, 300))\n",
        "ax = Axis(f[1,1]; xlabel=\"March temperature (°C)\", ylabel=\"Bloom time (day of year)\")\n",
        "scatter!(ax, sakura.temperature, sakura.flowering, color=:lightgrey)\n",
        "current_figure()"
      ],
      "id": "fig-splits-rawdata",
      "execution_count": null,
      "outputs": []
    },
    {
      "cell_type": "markdown",
      "metadata": {},
      "source": [
        "We can now define a few loss functions to compare them later on:\n"
      ],
      "id": "4494de74"
    },
    {
      "cell_type": "code",
      "metadata": {},
      "source": [
        "mse(tr, pr) = mean((tr .- pr).^2.0)\n",
        "rmse(tr, pr) = sqrt(mse(tr, pr))\n",
        "mae(tr, pr) = mean(abs.(tr .- pr))\n",
        "mbe(tr, pr) = mean(tr .- pr)"
      ],
      "id": "8192235a",
      "execution_count": null,
      "outputs": []
    },
    {
      "cell_type": "markdown",
      "metadata": {},
      "source": [
        "We now define a series of folds, in order to do k-folds cross validation. Note that we keep a holdout test dataset corresponding to the end of the time series for model evaluation.\n"
      ],
      "id": "2ca6bde3"
    },
    {
      "cell_type": "code",
      "metadata": {},
      "source": [
        "n = size(sakura, 1)\n",
        "test_size = ceil.(Int, 0.25n)\n",
        "\n",
        "sakuratrain = sakura[1:(n-test_size), :]\n",
        "sakuratest = sakura[(n-test_size+1):n, :]\n",
        "\n",
        "folds = ceil.(Int, LinRange(1, size(sakuratrain, 1), 11))"
      ],
      "id": "fb1bdcbc",
      "execution_count": null,
      "outputs": []
    },
    {
      "cell_type": "markdown",
      "metadata": {},
      "source": [
        "This next figure is purely an illustration of the splits:\n"
      ],
      "id": "7394cc4f"
    },
    {
      "cell_type": "code",
      "metadata": {},
      "source": [
        "#| label: fig-splits-illustration\n",
        "#| fig-cap: 'An illustration of a series of folds on a timeseries. The grey aata are used for training, the black data for validation, and the red data are kept for testing. Note that in this context, we sometimes use the future to validate on the past (look at the first fold!), but this is acceptable for reasons explained in the text.'\n",
        "f = Figure()\n",
        "s1 = Axis(f[1,1])\n",
        "s2 = Axis(f[2,1])\n",
        "s3 = Axis(f[3,1])\n",
        "s4 = Axis(f[4,1])\n",
        "for (i,s) in enumerate([s1, s2, s3, s4])\n",
        "    scatter!(s, sakuratrain.year, sakuratrain.flowavg, color=:lightgrey)\n",
        "    scatter!(s, sakuratest.year, sakuratest.flowavg, color=Makie.wong_colors()[4], linewidth=4)\n",
        "    j = 2i-1\n",
        "    valid_idx = folds[j]:folds[j+1]\n",
        "    train_idx = filter(n -> !(n in valid_idx), 1:size(sakuratrain, 1))\n",
        "    valid = sakuratrain[valid_idx, :]\n",
        "    train = sakuratrain[train_idx, :]\n",
        "    scatter!(s, valid.year, valid.flowavg, color=Makie.wong_colors()[3], linewidth=2)\n",
        "    hidedecorations!(s)\n",
        "    hidespines!(s)\n",
        "end\n",
        "current_figure()"
      ],
      "id": "fig-splits-illustration",
      "execution_count": null,
      "outputs": []
    },
    {
      "cell_type": "markdown",
      "metadata": {},
      "source": [
        "placeholders for validation measures\n"
      ],
      "id": "f27b6137"
    },
    {
      "cell_type": "code",
      "metadata": {},
      "source": [
        "test_results = DataFrame()"
      ],
      "id": "6d5cc143",
      "execution_count": null,
      "outputs": []
    },
    {
      "cell_type": "markdown",
      "metadata": {},
      "source": [
        "this is the cross validation\n"
      ],
      "id": "92de31b4"
    },
    {
      "cell_type": "code",
      "metadata": {},
      "source": [
        "for (i, Ki) in enumerate(folds)\n",
        "    if Ki < size(sakuratrain, 1)\n",
        "        valid_idx = folds[i]:folds[i+1]\n",
        "        train_idx = filter(n -> !(n in valid_idx), 1:size(sakuratrain, 1))\n",
        "        valid = sakuratrain[valid_idx, :]\n",
        "        train = sakuratrain[train_idx, :]\n",
        "        m1 = lm(@formula(flowavg ~ temperature), train)\n",
        "        m2 = lm(@formula(flowavg ~ temperature + temperature^-1), train)\n",
        "        for (md, mn) in [(m1, :Simple), (m2, :Inverse)]\n",
        "            for (ds, dn) in [(train, :Training), (valid, :Validation)]\n",
        "                for (m,p) in [(mse, :MSE), (rmse, :RMSE), (mae, :MAE), (mbe, :MBE)]\n",
        "                    loss = m(ds.flowavg, predict(md, ds))\n",
        "                    push!(test_results,\n",
        "                        (\n",
        "                            Model = mn,\n",
        "                            Dataset = dn,\n",
        "                            Measure = p,\n",
        "                            Value = loss\n",
        "                        )\n",
        "                    )\n",
        "                end\n",
        "            end\n",
        "        end\n",
        "    end\n",
        "end\n",
        "\n",
        "gr_test = groupby(test_results, [:Model, :Dataset, :Measure])\n",
        "benchmark_result = combine(gr_test, :Value => mean => Symbol(\"Loss (avg.)\"), :Value => std => Symbol(\"Loss (std. dev.)\"))\n",
        "sort!(benchmark_result, [:Measure, :Dataset, :Model, Symbol(\"Loss (avg.)\")])"
      ],
      "id": "48a93f70",
      "execution_count": null,
      "outputs": []
    },
    {
      "cell_type": "markdown",
      "metadata": {},
      "source": [
        "Based on these results, we can look at the value of the MAE loss to pick our best model:\n"
      ],
      "id": "d74ec039"
    },
    {
      "cell_type": "code",
      "metadata": {},
      "source": [
        "choice = benchmark_result[(benchmark_result.Measure .== :MAE),:]\n",
        "sort!(choice, :Dataset)"
      ],
      "id": "83a3dea1",
      "execution_count": null,
      "outputs": []
    },
    {
      "cell_type": "markdown",
      "metadata": {},
      "source": [
        "It looks like the models with additional terms do not work any better than a simple regression against the temperature, so we will select the simpler model. We now train the model on the full dataset:\n"
      ],
      "id": "2beb4488"
    },
    {
      "cell_type": "code",
      "metadata": {},
      "source": [
        "model = lm(@formula(flowavg ~ temperature), sakuratrain)"
      ],
      "id": "64332f2d",
      "execution_count": null,
      "outputs": []
    },
    {
      "cell_type": "code",
      "metadata": {},
      "source": [
        "#| label: fig-splits-prediction\n",
        "#| fig-cap: TODO\n",
        "scatter(sakura.year, sakura.flowavg, color=:lightgrey)\n",
        "lines!(sakuratrain.year, predict(model, sakuratrain), color=:black)\n",
        "lines!(sakuratest.year, predict(model, sakuratest), color=:red)\n",
        "current_figure()"
      ],
      "id": "fig-splits-prediction",
      "execution_count": null,
      "outputs": []
    },
    {
      "cell_type": "code",
      "metadata": {},
      "source": [
        "#| label: fig-splits-validation\n",
        "#| fig-cap: TODO\n",
        "f = Figure(; resolution=(500, 300))\n",
        "ax = Axis(f[1,1]; xgridvisible=false, ygridvisible=false, xlabel=\"Fold\", ylabel=\"MAE loss\")\n",
        "scatterlines!(ax, train_mae, color=:grey, label=\"Training data\")\n",
        "scatterlines!(ax, valid_mae, color=:black, label=\"Validation data\")\n",
        "hlines!(ax, mae(sakuratest.flowavg, predict(model, sakuratest)), color=:red, label=\"Testing data\")\n",
        "hidespines!(ax, :l, :r, :t, :b)\n",
        "hidexdecorations!(ax; label=false)\n",
        "ylims!(ax, (0, 5))\n",
        "axislegend(ax)\n",
        "current_figure()"
      ],
      "id": "fig-splits-validation",
      "execution_count": null,
      "outputs": []
    },
    {
      "cell_type": "markdown",
      "metadata": {},
      "source": [
        "We can now make a table with the results (by dataset/loss function):\n"
      ],
      "id": "3c562cd0"
    },
    {
      "cell_type": "code",
      "metadata": {},
      "source": [
        "#| label: tab-splits-results\n",
        "#| tbl-cap: blah\n",
        "output = DataFrame()\n",
        "output.Loss = [:RMSE, :MSE, :MAE, :MBE]\n",
        "output.Training = [\n",
        "    mean(train_rmse),\n",
        "    mean(train_mse),\n",
        "    mean(train_mae),\n",
        "    mean(train_mbe)\n",
        "]\n",
        "output.Validation = [\n",
        "    mean(valid_rmse),\n",
        "    mean(valid_mse),\n",
        "    mean(valid_mae),\n",
        "    mean(valid_mbe)\n",
        "]\n",
        "output.Testing = [\n",
        "    rmse(sakuratest.flowavg, predict(model, sakuratest)),\n",
        "    mse(sakuratest.flowavg, predict(model, sakuratest)),\n",
        "    mae(sakuratest.flowavg, predict(model, sakuratest)),\n",
        "    mbe(sakuratest.flowavg, predict(model, sakuratest))\n",
        "]\n",
        "print(output)"
      ],
      "id": "tab-splits-results",
      "execution_count": null,
      "outputs": []
    },
    {
      "cell_type": "code",
      "metadata": {},
      "source": [
        "#| label: fig-splits-detail\n",
        "#| fig-cap: TODO\n",
        "scatter(sakuratest.year, sakuratest.flowavg, color=:lightgrey)\n",
        "lines!(sakuratest.year, predict(model, sakuratest), color=:red)\n",
        "current_figure()"
      ],
      "id": "fig-splits-detail",
      "execution_count": null,
      "outputs": []
    }
  ],
  "metadata": {
    "kernelspec": {
      "name": "julia-1.9",
      "language": "julia",
      "display_name": "Julia 1.9.2"
    }
  },
  "nbformat": 4,
  "nbformat_minor": 5
}